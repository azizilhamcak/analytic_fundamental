{
 "cells": [
  {
   "cell_type": "markdown",
   "id": "1b7488ff-e6aa-4315-89c6-15c426024297",
   "metadata": {},
   "source": [
    "#### **Shopping Helper**\n",
    "\n",
    "Buatlah suatu program untuk membantu dalam berbelanja. Program harus memiliki setidaknya tiga fitur, yaitu\n",
    "\n",
    "1. Menambahkan item baru ke dalam daftar belanja\n",
    "2. Menghapus item dari daftar belanja\n",
    "3. Melihat seluruh item dalam daftar belanja.\n",
    "\n",
    "Masing-masing item yagng ditambahkan harus memiliki tiga informasi, yaitu **Nama Item**, **Harga Item**, dan **Jumlah Item**.\n",
    "\n",
    "Ketika program dijalankan, user dapat memilih fitur apa yang dia ingin jalankan, apakah menambahkan, menghapus, atau melihat item di dalam daftar belanja. Selain itu, user juga dapat memilih fitur untuk keluar dari program. Setelah user menggunakan salah satu fitur, maka user akan dapat memilih kembali fitur apa yang dia ingin digunakan selanjutnya. Ini akan terus berulang hingga user memilih fitur untuk keluar dari program.\n",
    "\n",
    "**Hint**\n",
    "1. Buat satu function (*def*) untuk masing-masing fitur\n",
    "2. Gunakan  \" While True: \" untuk membuat loop yang akan terus berjalan dan hanya dapat dihentikan dengan break.\n",
    "3. Gunakan function *input()* untuk membantu menambahkan item dan memilih fitur\n",
    "\n",
    "\n",
    "**Penilaian**\n",
    "\n",
    "Gunakan masing-masing syntax/statement/function berikut. Setiap satu syntax/statement/function yang digunakan, maka akan mendapatkan nilai antara 1 - 10 untuk setiap poinnya, tergantung seberapa tepat dan efektif penggunaannya. Jika syntax/statement/function tidak digunakan, maka nilainya 0. Nilai maksimum dari tugas ini adalah 100 (10 untuk masing-masing poin).\n",
    "\n",
    "1. Conditional statement (if, elif, else)\n",
    "2. For Loop\n",
    "3. While Loop\n",
    "4. Def\n",
    "5. Break, Continue, Raise\n",
    "6. Try, Except, Finally\n",
    "7. Print\n",
    "8. Comment (#) \n",
    "9. List, Tuple, Dictionary\n",
    "10. Function apapun selain **Print**"
   ]
  },
  {
   "cell_type": "code",
   "execution_count": 2,
   "id": "849799b9-4e72-41f1-842d-14eb8e1e3ac1",
   "metadata": {
    "jupyter": {
     "source_hidden": true
    }
   },
   "outputs": [
    {
     "name": "stdout",
     "output_type": "stream",
     "text": [
      "-------------------\n",
      "myERP mini apps\n",
      "-------------------\n",
      "\n"
     ]
    },
    {
     "name": "stdin",
     "output_type": "stream",
     "text": [
      "First Name :  Aziz\n",
      "Last Name :  Ilham\n"
     ]
    },
    {
     "name": "stdout",
     "output_type": "stream",
     "text": [
      "\n",
      " Welcome Aziz Ilham \n",
      "\n",
      "1. Add Item\n",
      "2. Show Item\n",
      "3. Delete Item\n",
      "4. Exit\n"
     ]
    },
    {
     "name": "stdin",
     "output_type": "stream",
     "text": [
      "Insert your choice :  1\n",
      "Enter number of pairs:  3\n",
      "Enter item_:  a\n",
      "Enter price:  1000\n",
      "Enter stock:  21\n",
      "Enter item_:  b\n",
      "Enter price:  2000\n",
      "Enter stock:  23\n",
      "Enter item_:  b\n",
      "Enter price:  3500\n",
      "Enter stock:  21\n"
     ]
    },
    {
     "name": "stdout",
     "output_type": "stream",
     "text": [
      "1. Add Item\n",
      "2. Show Item\n",
      "3. Delete Item\n",
      "4. Exit\n"
     ]
    },
    {
     "name": "stdin",
     "output_type": "stream",
     "text": [
      "Insert your choice :  2\n"
     ]
    },
    {
     "name": "stdout",
     "output_type": "stream",
     "text": [
      "Hello Aziz Ilham, you have: 3 items\n",
      "\n",
      "  item_  price stock\n",
      "1     a   1000    21\n",
      "2     b   2000    23\n",
      "3     b   3500    21\n",
      "\n",
      "\n",
      "1. Add Item\n",
      "2. Show Item\n",
      "3. Delete Item\n",
      "4. Exit\n"
     ]
    },
    {
     "name": "stdin",
     "output_type": "stream",
     "text": [
      "Insert your choice :  3\n",
      "Delete item number:  1\n"
     ]
    },
    {
     "name": "stdout",
     "output_type": "stream",
     "text": [
      "1. Add Item\n",
      "2. Show Item\n",
      "3. Delete Item\n",
      "4. Exit\n"
     ]
    },
    {
     "name": "stdin",
     "output_type": "stream",
     "text": [
      "Insert your choice :  2\n"
     ]
    },
    {
     "name": "stdout",
     "output_type": "stream",
     "text": [
      "Hello Aziz Ilham, you have: 2 items\n",
      "\n",
      "  item_  price stock\n",
      "1     b   2000    23\n",
      "2     b   3500    21\n",
      "\n",
      "\n",
      "1. Add Item\n",
      "2. Show Item\n",
      "3. Delete Item\n",
      "4. Exit\n"
     ]
    },
    {
     "name": "stdin",
     "output_type": "stream",
     "text": [
      "Insert your choice :  4\n",
      "Do you want to exit (y/n) :  n\n"
     ]
    },
    {
     "name": "stdout",
     "output_type": "stream",
     "text": [
      "Please add your items: \n"
     ]
    },
    {
     "name": "stdin",
     "output_type": "stream",
     "text": [
      "Enter number of pairs:  1\n",
      "Enter item_:  a\n",
      "Enter price:  1000\n",
      "Enter stock:  5\n"
     ]
    },
    {
     "name": "stdout",
     "output_type": "stream",
     "text": [
      "Hello Aziz Ilham, you have: 3 items\n",
      "\n",
      "  item_  price stock\n",
      "1     b   2000    23\n",
      "2     b   3500    21\n",
      "3     a   1000     5\n",
      "\n",
      "\n",
      "1. Add Item\n",
      "2. Show Item\n",
      "3. Delete Item\n",
      "4. Exit\n"
     ]
    },
    {
     "name": "stdin",
     "output_type": "stream",
     "text": [
      "Insert your choice :  4\n",
      "Do you want to exit (y/n) :  y\n"
     ]
    },
    {
     "name": "stdout",
     "output_type": "stream",
     "text": [
      "Thank you :)\n"
     ]
    }
   ],
   "source": [
    "import pandas as pd\n",
    "\n",
    "def name():\n",
    "    print(\"-------------------\")\n",
    "    print(\"myERP mini apps\")\n",
    "    print(\"-------------------\\n\")\n",
    "    name1 = input(\"First Name : \")\n",
    "    name11 = input(\"Last Name : \")\n",
    "    return f\"{name1} {name11}\"\n",
    "\n",
    "def displayname(fullname):\n",
    "    print(f\"\\n Welcome {fullname} \\n\") \n",
    "\n",
    "fullname = name()\n",
    "displayname(fullname)\n",
    "   \n",
    "def menu():\n",
    "    print(\"1. Add Item\")\n",
    "    print(\"2. Show Item\")\n",
    "    print(\"3. Delete Item\")\n",
    "    print(\"4. Exit\")\n",
    "\n",
    "def data():\n",
    "       n = int(input(\"Enter number of pairs: \"))\n",
    "       for _ in range(n):\n",
    "              item_ = input(\"Enter item_: \")\n",
    "              price = int(input(\"Enter price: \"))\n",
    "              stock = input(\"Enter stock: \")\n",
    "              key_value_list.append({\"item_\": item_, \"price\": price, \"stock\": stock})\n",
    "\n",
    "def delete():\n",
    "    key_value_list_delete = int(input(\"Delete item number: \")) - 1\n",
    "    key_value_list.pop(key_value_list_delete)\n",
    "    return main()\n",
    "    \n",
    "\n",
    "def display():\n",
    "        #num = 1\n",
    "        #print(f\"There are your items:\")\n",
    "        #for i in key_value_list:\n",
    "         #   print(f\"{num}.{i}\")\n",
    "          #  num += 1\n",
    "        print(f\"Hello {fullname}, you have: {len(key_value_list)} items\\n\")\n",
    "        df = pd.DataFrame(key_value_list)\n",
    "        df.index += 1\n",
    "        print(df)\n",
    "        print(\"\\n\")\n",
    "        return main()\n",
    "\n",
    "def _exit():    \n",
    "    exit_ = input(\"Do you want to exit (y/n) : \")\n",
    "    if exit_ == 'y':\n",
    "        print(\"Thank you :)\")\n",
    "        exit()\n",
    "    else:\n",
    "        print(\"Please add your items: \")\n",
    "        data()\n",
    "        display()\n",
    "\n",
    "     \n",
    "def main():\n",
    "    menu()\n",
    "    try:\n",
    "            user_input = int(input(\"Insert your choice : \"))\n",
    "            if user_input == 4:\n",
    "             _exit()\n",
    "            if user_input in [1,2,3]:\n",
    "                if user_input == 1:\n",
    "                    #print(\"1. Tambahkan task\")\n",
    "                    data()\n",
    "                    main()\n",
    "                elif user_input == 2:\n",
    "                    display()\n",
    "                    try:\n",
    "                     if not key_value_list:\n",
    "                        print(\"No tasks, please add your task\\n\")\n",
    "                        return main()\n",
    "                    except NameError:\n",
    "                        print(\"No tasks, please add your task\")          \n",
    "                elif user_input == 3:\n",
    "                    if not key_value_list:\n",
    "                        print(\"No tasks, please add your task\")\n",
    "                        return main()\n",
    "                    else:\n",
    "                     delete()\n",
    "    except ValueError:\n",
    "        print(\"Input must be a number\")\n",
    "\n",
    "\n",
    "if __name__ == \"__main__\":\n",
    " user_input = int\n",
    " key_value_list = []\n",
    " main()\n"
   ]
  },
  {
   "cell_type": "code",
   "execution_count": null,
   "id": "9ef484bb-131a-4b4c-bbad-5da5b0e1d9f4",
   "metadata": {},
   "outputs": [],
   "source": []
  },
  {
   "cell_type": "code",
   "execution_count": null,
   "id": "eabe07a7-9a25-4d80-953f-8100155d7223",
   "metadata": {},
   "outputs": [],
   "source": []
  },
  {
   "cell_type": "code",
   "execution_count": null,
   "id": "3f699f1a-c2f5-4fe0-ab31-74b2d58ad4d9",
   "metadata": {},
   "outputs": [],
   "source": []
  },
  {
   "cell_type": "code",
   "execution_count": null,
   "id": "64e8ec66-e351-440d-bbfc-16342c092a91",
   "metadata": {},
   "outputs": [],
   "source": []
  },
  {
   "cell_type": "code",
   "execution_count": null,
   "id": "69d85f37-443b-4a65-9ae7-795e051c203f",
   "metadata": {},
   "outputs": [],
   "source": []
  }
 ],
 "metadata": {
  "kernelspec": {
   "display_name": "Python 3 (ipykernel)",
   "language": "python",
   "name": "python3"
  },
  "language_info": {
   "codemirror_mode": {
    "name": "ipython",
    "version": 3
   },
   "file_extension": ".py",
   "mimetype": "text/x-python",
   "name": "python",
   "nbconvert_exporter": "python",
   "pygments_lexer": "ipython3",
   "version": "3.12.5"
  }
 },
 "nbformat": 4,
 "nbformat_minor": 5
}
