{
 "cells": [
  {
   "cell_type": "markdown",
   "metadata": {},
   "source": [
    "Instruksi\n",
    "\n",
    "Lakukan proses data cleaning terhadap data di atas. Data tersebut berisi status admission di suatu universitas, di mana setiap baris berisi informasi terkait calon mahasiswa yang melamar di kampus tersebut, beserta informasi apakah mahasiswa tersebut diterima atau tidak.\n",
    "\n",
    "Untuk level beginner, mohon aplikasikan proses data cleaning basic (cek duplikat, missing value, nilai yang hilang, dll)\n",
    "Untuk level intermediate, boleh melakukan proses data cleaning yang lebih advance, sesuai dengan pengetahuan yang teman2 sudah dimiliki."
   ]
  },
  {
   "cell_type": "code",
   "execution_count": 8,
   "metadata": {},
   "outputs": [],
   "source": [
    "import pandas as pd\n",
    "\n",
    "df = pd.read_csv(\"C:/Users/My Latitude/Desktop/basic_DA/academic_admission.csv\")   "
   ]
  },
  {
   "cell_type": "code",
   "execution_count": 6,
   "metadata": {},
   "outputs": [
    {
     "data": {
      "text/html": [
       "<div>\n",
       "<style scoped>\n",
       "    .dataframe tbody tr th:only-of-type {\n",
       "        vertical-align: middle;\n",
       "    }\n",
       "\n",
       "    .dataframe tbody tr th {\n",
       "        vertical-align: top;\n",
       "    }\n",
       "\n",
       "    .dataframe thead th {\n",
       "        text-align: right;\n",
       "    }\n",
       "</style>\n",
       "<table border=\"1\" class=\"dataframe\">\n",
       "  <thead>\n",
       "    <tr style=\"text-align: right;\">\n",
       "      <th></th>\n",
       "      <th>application_id</th>\n",
       "      <th>international</th>\n",
       "      <th>gpa</th>\n",
       "      <th>major</th>\n",
       "      <th>race</th>\n",
       "      <th>gmat</th>\n",
       "      <th>work_exp</th>\n",
       "      <th>work_industry</th>\n",
       "      <th>admission</th>\n",
       "    </tr>\n",
       "    <tr>\n",
       "      <th>gender</th>\n",
       "      <th></th>\n",
       "      <th></th>\n",
       "      <th></th>\n",
       "      <th></th>\n",
       "      <th></th>\n",
       "      <th></th>\n",
       "      <th></th>\n",
       "      <th></th>\n",
       "      <th></th>\n",
       "    </tr>\n",
       "  </thead>\n",
       "  <tbody>\n",
       "    <tr>\n",
       "      <th>Female</th>\n",
       "      <td>1</td>\n",
       "      <td>False</td>\n",
       "      <td>3.30</td>\n",
       "      <td>Business</td>\n",
       "      <td>Asian</td>\n",
       "      <td>620</td>\n",
       "      <td>3</td>\n",
       "      <td>Financial Services</td>\n",
       "      <td>Admit</td>\n",
       "    </tr>\n",
       "    <tr>\n",
       "      <th>Male</th>\n",
       "      <td>2</td>\n",
       "      <td>False</td>\n",
       "      <td>3.28</td>\n",
       "      <td>Humanities</td>\n",
       "      <td>Black</td>\n",
       "      <td>680</td>\n",
       "      <td>5</td>\n",
       "      <td>Investment Management</td>\n",
       "      <td>NaN</td>\n",
       "    </tr>\n",
       "    <tr>\n",
       "      <th>Female</th>\n",
       "      <td>3</td>\n",
       "      <td>True</td>\n",
       "      <td>3.30</td>\n",
       "      <td>Business</td>\n",
       "      <td>NaN</td>\n",
       "      <td>710</td>\n",
       "      <td>5</td>\n",
       "      <td>Technology</td>\n",
       "      <td>Admit</td>\n",
       "    </tr>\n",
       "    <tr>\n",
       "      <th>Male</th>\n",
       "      <td>4</td>\n",
       "      <td>False</td>\n",
       "      <td>3.47</td>\n",
       "      <td>STEM</td>\n",
       "      <td>Black</td>\n",
       "      <td>690</td>\n",
       "      <td>6</td>\n",
       "      <td>Technology</td>\n",
       "      <td>NaN</td>\n",
       "    </tr>\n",
       "    <tr>\n",
       "      <th>Male</th>\n",
       "      <td>5</td>\n",
       "      <td>False</td>\n",
       "      <td>3.35</td>\n",
       "      <td>STEM</td>\n",
       "      <td>Hispanic</td>\n",
       "      <td>590</td>\n",
       "      <td>5</td>\n",
       "      <td>Consulting</td>\n",
       "      <td>NaN</td>\n",
       "    </tr>\n",
       "  </tbody>\n",
       "</table>\n",
       "</div>"
      ],
      "text/plain": [
       "        application_id  international   gpa       major      race  gmat  \\\n",
       "gender                                                                    \n",
       "Female               1          False  3.30    Business     Asian   620   \n",
       "Male                 2          False  3.28  Humanities     Black   680   \n",
       "Female               3           True  3.30    Business       NaN   710   \n",
       "Male                 4          False  3.47        STEM     Black   690   \n",
       "Male                 5          False  3.35        STEM  Hispanic   590   \n",
       "\n",
       "        work_exp          work_industry admission  \n",
       "gender                                             \n",
       "Female         3     Financial Services     Admit  \n",
       "Male           5  Investment Management       NaN  \n",
       "Female         5             Technology     Admit  \n",
       "Male           6             Technology       NaN  \n",
       "Male           5             Consulting       NaN  "
      ]
     },
     "execution_count": 6,
     "metadata": {},
     "output_type": "execute_result"
    }
   ],
   "source": [
    "df.head()"
   ]
  },
  {
   "cell_type": "markdown",
   "metadata": {},
   "source": [
    "Mengecek tipe data dari semua kolom apakah sudah sesuai dengan format yang sesuai."
   ]
  },
  {
   "cell_type": "code",
   "execution_count": 24,
   "metadata": {},
   "outputs": [
    {
     "name": "stdout",
     "output_type": "stream",
     "text": [
      "<class 'pandas.core.frame.DataFrame'>\n",
      "RangeIndex: 6110 entries, 0 to 6109\n",
      "Data columns (total 10 columns):\n",
      " #   Column          Non-Null Count  Dtype  \n",
      "---  ------          --------------  -----  \n",
      " 0   application_id  6110 non-null   int64  \n",
      " 1   gender          6110 non-null   object \n",
      " 2   international   6110 non-null   bool   \n",
      " 3   gpa             6110 non-null   float64\n",
      " 4   major           6110 non-null   object \n",
      " 5   race            4294 non-null   object \n",
      " 6   gmat            6110 non-null   int64  \n",
      " 7   work_exp        6110 non-null   int64  \n",
      " 8   work_industry   6110 non-null   object \n",
      " 9   admission       903 non-null    object \n",
      "dtypes: bool(1), float64(1), int64(3), object(5)\n",
      "memory usage: 435.7+ KB\n"
     ]
    }
   ],
   "source": [
    "df.info()"
   ]
  },
  {
   "cell_type": "markdown",
   "metadata": {},
   "source": [
    "Melihat apakah ada nilai yang unik dan berbeda pada setiap kolom"
   ]
  },
  {
   "cell_type": "code",
   "execution_count": 25,
   "metadata": {},
   "outputs": [
    {
     "name": "stdout",
     "output_type": "stream",
     "text": [
      "application_id\n",
      "[   1    2    3 ... 6192 6193 6194]\n",
      "\n",
      "\n",
      "gender\n",
      "['Female' 'Male']\n",
      "\n",
      "\n",
      "international\n",
      "[False  True]\n",
      "\n",
      "\n",
      "gpa\n",
      "[3.3  3.28 3.47 3.35 3.18 2.93 3.02 3.24 3.27 3.05 2.85 3.39 3.03 3.32\n",
      " 3.23 3.13 3.09 3.46 3.64 3.42 3.4  3.26 2.99 3.08 3.65 3.04 3.19 3.33\n",
      " 3.53 3.5  3.22 3.16 3.45 3.12 3.41 3.38 3.43 2.96 3.44 3.01 3.   3.36\n",
      " 3.31 3.07 3.49 3.34 2.89 3.2  3.17 3.1  3.52 3.15 3.21 3.48 3.14 2.97\n",
      " 3.11 3.29 3.25 3.51 3.06 2.95 3.37 3.55 3.54 3.6  3.61 3.71 3.77 3.58\n",
      " 2.98 3.56 3.69 2.79 2.87 2.88 3.63 3.74 2.91 2.92 2.78 3.57 3.66 2.81\n",
      " 3.59 2.82 3.62 2.73 3.68 2.84 2.9  2.83 2.86 3.67 2.94 2.72 2.8  3.76\n",
      " 3.7  3.73 2.65]\n",
      "\n",
      "\n",
      "major\n",
      "['Business' 'Humanities' 'STEM']\n",
      "\n",
      "\n",
      "race\n",
      "['Asian' 'Black' nan 'Hispanic' 'White' 'Other']\n",
      "\n",
      "\n",
      "gmat\n",
      "[620 680 710 690 590 610 630 580 600 700 670 760 640 730 570 650 720 740\n",
      " 660 780 750 770]\n",
      "\n",
      "\n",
      "work_exp\n",
      "[3 5 6 2 4 8 7 9 1]\n",
      "\n",
      "\n",
      "work_industry\n",
      "['Financial Services' 'Investment Management' 'Technology' 'Consulting'\n",
      " 'Nonprofit/Gov' 'PE/VC' 'Health Care' 'Investment Banking' 'Other'\n",
      " 'Retail' 'Energy' 'CPG' 'Real Estate' 'Media/Entertainment']\n",
      "\n",
      "\n",
      "admission\n",
      "['Admit' nan]\n",
      "\n",
      "\n"
     ]
    }
   ],
   "source": [
    "for col in df.columns:\n",
    "    print(col)\n",
    "    print(df[col].unique())\n",
    "    print(\"\\n\")"
   ]
  },
  {
   "cell_type": "markdown",
   "metadata": {},
   "source": [
    "Mencari nilai yang hilang dari setiap kolom dengan fungsi isnull"
   ]
  },
  {
   "cell_type": "code",
   "execution_count": 26,
   "metadata": {},
   "outputs": [
    {
     "data": {
      "text/plain": [
       "application_id       0\n",
       "gender               0\n",
       "international        0\n",
       "gpa                  0\n",
       "major                0\n",
       "race              1816\n",
       "gmat                 0\n",
       "work_exp             0\n",
       "work_industry        0\n",
       "admission         5207\n",
       "dtype: int64"
      ]
     },
     "execution_count": 26,
     "metadata": {},
     "output_type": "execute_result"
    }
   ],
   "source": [
    "df.isnull().sum()"
   ]
  },
  {
   "cell_type": "markdown",
   "metadata": {},
   "source": [
    "Mengganti nilai nan pada kolom 'race' dengan 'Other'"
   ]
  },
  {
   "cell_type": "code",
   "execution_count": 54,
   "metadata": {},
   "outputs": [
    {
     "name": "stdout",
     "output_type": "stream",
     "text": [
      "None\n"
     ]
    }
   ],
   "source": [
    "filled_race = df.fillna({'race': 'Other'}, inplace=True) \n",
    "print(filled_race)"
   ]
  },
  {
   "cell_type": "markdown",
   "metadata": {},
   "source": [
    "Mengganti nilai nan pada kolom 'admission' dengan 'Unknown'"
   ]
  },
  {
   "cell_type": "code",
   "execution_count": 55,
   "metadata": {},
   "outputs": [
    {
     "name": "stdout",
     "output_type": "stream",
     "text": [
      "None\n"
     ]
    }
   ],
   "source": [
    "filled_admission = df.fillna({'admission': 'Unknown'}, inplace=True) \n",
    "print(filled_admission)"
   ]
  },
  {
   "cell_type": "code",
   "execution_count": 56,
   "metadata": {},
   "outputs": [
    {
     "data": {
      "text/html": [
       "<div>\n",
       "<style scoped>\n",
       "    .dataframe tbody tr th:only-of-type {\n",
       "        vertical-align: middle;\n",
       "    }\n",
       "\n",
       "    .dataframe tbody tr th {\n",
       "        vertical-align: top;\n",
       "    }\n",
       "\n",
       "    .dataframe thead th {\n",
       "        text-align: right;\n",
       "    }\n",
       "</style>\n",
       "<table border=\"1\" class=\"dataframe\">\n",
       "  <thead>\n",
       "    <tr style=\"text-align: right;\">\n",
       "      <th></th>\n",
       "      <th>application_id</th>\n",
       "      <th>gender</th>\n",
       "      <th>international</th>\n",
       "      <th>gpa</th>\n",
       "      <th>major</th>\n",
       "      <th>race</th>\n",
       "      <th>gmat</th>\n",
       "      <th>work_exp</th>\n",
       "      <th>work_industry</th>\n",
       "      <th>admission</th>\n",
       "    </tr>\n",
       "  </thead>\n",
       "  <tbody>\n",
       "    <tr>\n",
       "      <th>0</th>\n",
       "      <td>1</td>\n",
       "      <td>Female</td>\n",
       "      <td>False</td>\n",
       "      <td>3.30</td>\n",
       "      <td>Business</td>\n",
       "      <td>Asian</td>\n",
       "      <td>620</td>\n",
       "      <td>3</td>\n",
       "      <td>Financial Services</td>\n",
       "      <td>Admit</td>\n",
       "    </tr>\n",
       "    <tr>\n",
       "      <th>1</th>\n",
       "      <td>2</td>\n",
       "      <td>Male</td>\n",
       "      <td>False</td>\n",
       "      <td>3.28</td>\n",
       "      <td>Humanities</td>\n",
       "      <td>Black</td>\n",
       "      <td>680</td>\n",
       "      <td>5</td>\n",
       "      <td>Investment Management</td>\n",
       "      <td>Unknown</td>\n",
       "    </tr>\n",
       "    <tr>\n",
       "      <th>2</th>\n",
       "      <td>3</td>\n",
       "      <td>Female</td>\n",
       "      <td>True</td>\n",
       "      <td>3.30</td>\n",
       "      <td>Business</td>\n",
       "      <td>Other</td>\n",
       "      <td>710</td>\n",
       "      <td>5</td>\n",
       "      <td>Technology</td>\n",
       "      <td>Admit</td>\n",
       "    </tr>\n",
       "    <tr>\n",
       "      <th>3</th>\n",
       "      <td>4</td>\n",
       "      <td>Male</td>\n",
       "      <td>False</td>\n",
       "      <td>3.47</td>\n",
       "      <td>STEM</td>\n",
       "      <td>Black</td>\n",
       "      <td>690</td>\n",
       "      <td>6</td>\n",
       "      <td>Technology</td>\n",
       "      <td>Unknown</td>\n",
       "    </tr>\n",
       "    <tr>\n",
       "      <th>4</th>\n",
       "      <td>5</td>\n",
       "      <td>Male</td>\n",
       "      <td>False</td>\n",
       "      <td>3.35</td>\n",
       "      <td>STEM</td>\n",
       "      <td>Hispanic</td>\n",
       "      <td>590</td>\n",
       "      <td>5</td>\n",
       "      <td>Consulting</td>\n",
       "      <td>Unknown</td>\n",
       "    </tr>\n",
       "  </tbody>\n",
       "</table>\n",
       "</div>"
      ],
      "text/plain": [
       "   application_id  gender  international   gpa       major      race  gmat  \\\n",
       "0               1  Female          False  3.30    Business     Asian   620   \n",
       "1               2    Male          False  3.28  Humanities     Black   680   \n",
       "2               3  Female           True  3.30    Business     Other   710   \n",
       "3               4    Male          False  3.47        STEM     Black   690   \n",
       "4               5    Male          False  3.35        STEM  Hispanic   590   \n",
       "\n",
       "   work_exp          work_industry admission  \n",
       "0         3     Financial Services     Admit  \n",
       "1         5  Investment Management   Unknown  \n",
       "2         5             Technology     Admit  \n",
       "3         6             Technology   Unknown  \n",
       "4         5             Consulting   Unknown  "
      ]
     },
     "execution_count": 56,
     "metadata": {},
     "output_type": "execute_result"
    }
   ],
   "source": [
    "df.head()"
   ]
  },
  {
   "cell_type": "markdown",
   "metadata": {},
   "source": [
    "Mencari nilai yang terindikasi duplikat dengan fungsi duplicated. Disini saya menyimpulkan adanya duplikasi di setiap kolom tetapi memiliki nilai yang berbeda-berbeda, maka menurut saya tidak perlu dihapus."
   ]
  },
  {
   "cell_type": "code",
   "execution_count": 57,
   "metadata": {},
   "outputs": [
    {
     "name": "stdout",
     "output_type": "stream",
     "text": [
      "      application_id  gender  international   gpa       major      race  gmat  \\\n",
      "4195            4275    Male          False  3.25  Humanities     Other   720   \n",
      "4353            4434  Female           True  3.41  Humanities     Other   700   \n",
      "4418            4499    Male          False  3.34    Business     Asian   600   \n",
      "4432            4512  Female          False  3.39        STEM     Asian   750   \n",
      "4594            4661    Male          False  3.16        STEM     Asian   570   \n",
      "4595            4667  Female           True  3.38        STEM     Other   640   \n",
      "4598            4704    Male          False  3.11    Business  Hispanic   600   \n",
      "4599            4675  Female          False  3.22    Business     White   710   \n",
      "4627            4704    Male          False  3.11    Business  Hispanic   600   \n",
      "4934            5013  Female          False  3.22  Humanities     White   600   \n",
      "6104            6189    Male          False  3.12        STEM     Black   630   \n",
      "6105            6190    Male          False  3.49    Business     White   640   \n",
      "6106            6191    Male          False  3.18        STEM     Black   670   \n",
      "6107            6192  Female           True  3.22    Business     Other   680   \n",
      "6108            6193    Male           True  3.36    Business     Other   590   \n",
      "6109            6194    Male          False  3.23        STEM  Hispanic   650   \n",
      "\n",
      "      work_exp       work_industry admission  \n",
      "4195         4  Investment Banking     Admit  \n",
      "4353         5               PE/VC     Admit  \n",
      "4418         6         Health Care   Unknown  \n",
      "4432         6  Investment Banking   Unknown  \n",
      "4594         5          Consulting   Unknown  \n",
      "4595         4       Nonprofit/Gov   Unknown  \n",
      "4598         5  Financial Services   Unknown  \n",
      "4599         3          Consulting   Unknown  \n",
      "4627         5  Financial Services   Unknown  \n",
      "4934         4          Consulting   Unknown  \n",
      "6104         4          Consulting   Unknown  \n",
      "6105         5               Other   Unknown  \n",
      "6106         4          Consulting   Unknown  \n",
      "6107         5         Health Care     Admit  \n",
      "6108         5               Other   Unknown  \n",
      "6109         4          Consulting   Unknown  \n"
     ]
    }
   ],
   "source": [
    "duplicate = df[df.duplicated()]\n",
    "print(duplicate)"
   ]
  },
  {
   "cell_type": "code",
   "execution_count": 62,
   "metadata": {},
   "outputs": [
    {
     "name": "stdout",
     "output_type": "stream",
     "text": [
      "      application_id  gender  international   gpa       major      race  gmat  \\\n",
      "6                  7  Female          False  2.93        STEM     Other   590   \n",
      "8                  9    Male          False  3.24    Business     White   590   \n",
      "9                 10    Male          False  3.27  Humanities     Asian   690   \n",
      "11                12    Male           True  2.85  Humanities     Other   580   \n",
      "12                14  Female          False  3.39    Business     Black   690   \n",
      "...              ...     ...            ...   ...         ...       ...   ...   \n",
      "6105            6190    Male          False  3.49    Business     White   640   \n",
      "6106            6191    Male          False  3.18        STEM     Black   670   \n",
      "6107            6192  Female           True  3.22    Business     Other   680   \n",
      "6108            6193    Male           True  3.36    Business     Other   590   \n",
      "6109            6194    Male          False  3.23        STEM  Hispanic   650   \n",
      "\n",
      "      work_exp  work_industry admission  \n",
      "6            3     Technology     Admit  \n",
      "8            2  Nonprofit/Gov   Unknown  \n",
      "9            3     Consulting   Unknown  \n",
      "11           4          PE/VC   Unknown  \n",
      "12           4  Nonprofit/Gov   Unknown  \n",
      "...        ...            ...       ...  \n",
      "6105         5          Other   Unknown  \n",
      "6106         4     Consulting   Unknown  \n",
      "6107         5    Health Care     Admit  \n",
      "6108         5          Other   Unknown  \n",
      "6109         4     Consulting   Unknown  \n",
      "\n",
      "[6088 rows x 10 columns]\n"
     ]
    }
   ],
   "source": [
    "#df.drop_duplicates(inplace=True)\n",
    "duplicates = df['gmat'].duplicated()\n",
    "print(df[duplicates])"
   ]
  }
 ],
 "metadata": {
  "kernelspec": {
   "display_name": "Python 3",
   "language": "python",
   "name": "python3"
  },
  "language_info": {
   "codemirror_mode": {
    "name": "ipython",
    "version": 3
   },
   "file_extension": ".py",
   "mimetype": "text/x-python",
   "name": "python",
   "nbconvert_exporter": "python",
   "pygments_lexer": "ipython3",
   "version": "3.12.5"
  }
 },
 "nbformat": 4,
 "nbformat_minor": 2
}
