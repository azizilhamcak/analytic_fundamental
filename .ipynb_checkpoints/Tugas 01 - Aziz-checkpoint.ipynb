{
 "cells": [
  {
   "cell_type": "markdown",
   "id": "e0fa6be0-bdba-4565-ace0-622140320622",
   "metadata": {},
   "source": [
    "**Task 1.1**\n",
    "\n",
    "Budi sedang melakukan riset untuk melihat pengaruh suhu harian terhadap minat warga lokal untuk mengunjungi lokasi wisata di musim liburan. Lokasi risetnya adalah di negara bernama Puerto Rico. Budi mengambil data suhu di seluruh region di Puerto Rico selama satu bulan yang termasuk ke dalam musim libur anak sekolah. Dia pergi bersama satu orang asistennya, mahasiswa tingkat awal di universitas tempat dia sedang menempuh studi.\n",
    "\n",
    "Di sisi lain, Budi juga diminta oleh professor di tempat dia kuliah untuk mengumpulkan data temperatur secara detil setiap 15 menit di ibu kota Puerto Rico. Data ini nantinya akan digunakan oleh professor untuk melakukan suatu eksperimen di bidang Engineering.\n",
    "\n",
    "Saat kembali ke Indonesia, Budi sadar bahwa dia melakukan pengukuran suhu dengan menggunakan satuan Celcius untuk setiap data. Di sisi lain, satuan yang biasa dipakai di Puerto Rico adalah Fahrenheit. Professor juga memerlukan data tersebut dalam satuan Kelvin untuk penelitiannya di bidang Engineering. Saat hendak mengkonversi data tersebut, Budi sadar bahwa asistennya salah menginput tipe data untuk beberapa data. Ada sebagian data yang berada dalam format teks (string), yang mana seharusnya formatnya adalah bilangan desimal. \n",
    "\n",
    "1. Buat satu function untuk mengkonversi suhu dari satuan Celcius menjadi Fahrenheit. Beri nama functionnya sebagai **celcius_to_fahrenheit**\n",
    "2. Buat satu function untuk mengkonversi suhu dari satuan Celcius menjadi Kelvin. Beri nama functionnya sebagai **celcius_to_kelvin**\n",
    "3. Pastikan bahwa function tetap dapat mengkonversi suhu dengan benar, walaupun input datanya adalah teks.\n",
    "4. Buat hasil akhirnya sesuai dengan kunci jawaban yang tersedia di bawah, berada dalam foramt **Temperatur : 86.0 Fahrenheit**"
   ]
  },
  {
   "cell_type": "code",
   "execution_count": 3,
   "id": "673bb770-ce6d-41e1-b71e-4bb5b027fb2b",
   "metadata": {},
   "outputs": [],
   "source": [
    "# celcius to fahrenheit\n",
    "\n",
    "def celcius_to_fahrenheit():\n",
    "    try:\n",
    "        celcius = input(\"Input temp °C: \")\n",
    "        _celc = float(celcius)\n",
    "        c2f = (9/5*_celc)+32\n",
    "        print(f\"Nilai suhu saat ini {c2f} °F\")\n",
    "    except ValueError:\n",
    "        print(\"Input not valid, please input number\")\n",
    "\n",
    "def celcius_to_kelvin():\n",
    "    try:\n",
    "        celcius = input(\"input temp °C: \")\n",
    "        _celc = float(celcius)\n",
    "        c2k = _celc+273.15\n",
    "        print(f\"Nilai suhu saat ini {c2k} °K\")\n",
    "    except ValueError:\n",
    "        print(\"Input not valid, please input number\")\n",
    "\n"
   ]
  },
  {
   "cell_type": "code",
   "execution_count": 2,
   "id": "30aa7984",
   "metadata": {},
   "outputs": [
    {
     "name": "stdout",
     "output_type": "stream",
     "text": [
      "Nilai suhu saat ini 86.0 °F\n"
     ]
    }
   ],
   "source": [
    "celcius_to_fahrenheit()"
   ]
  },
  {
   "cell_type": "markdown",
   "id": "edfad102-ac1b-4843-b210-f75a6afc1042",
   "metadata": {},
   "source": [
    "Temperatur : 86.0 Fahrenheit"
   ]
  },
  {
   "cell_type": "code",
   "execution_count": 4,
   "id": "c0fed419-1500-4770-9be4-3139f980c466",
   "metadata": {},
   "outputs": [
    {
     "name": "stdout",
     "output_type": "stream",
     "text": [
      "Nilai suhu saat ini 199.57999999999998 °F\n"
     ]
    }
   ],
   "source": [
    "# check your answer\n",
    "\n",
    "celcius_to_fahrenheit() #93.1"
   ]
  },
  {
   "cell_type": "markdown",
   "id": "bb996ada-fb04-472b-acfa-af2b53fdb52b",
   "metadata": {},
   "source": [
    "Temperatur : 199.57999999999998 Fahrenheit"
   ]
  },
  {
   "cell_type": "code",
   "execution_count": 6,
   "id": "0b0fc09b-f61e-41df-9139-585bc4e5e1b5",
   "metadata": {},
   "outputs": [
    {
     "name": "stdout",
     "output_type": "stream",
     "text": [
      "Nilai suhu saat ini -17.5 °F\n"
     ]
    }
   ],
   "source": [
    "# check your answer\n",
    "\n",
    "celcius_to_fahrenheit() #-27.5"
   ]
  },
  {
   "cell_type": "markdown",
   "id": "2bb80b79-d82a-4a0b-976d-55a7c4023376",
   "metadata": {},
   "source": [
    "Temperatur : -17.5 Fahrenheit"
   ]
  },
  {
   "cell_type": "code",
   "execution_count": 4,
   "id": "1551b335-8d3f-4fab-8b4b-88f31a010fd6",
   "metadata": {},
   "outputs": [
    {
     "name": "stdout",
     "output_type": "stream",
     "text": [
      "Nilai suhu saat ini 373.15 °K\n"
     ]
    }
   ],
   "source": [
    "celcius_to_kelvin() #100"
   ]
  },
  {
   "cell_type": "markdown",
   "id": "a57d6e50-9eee-4c80-820d-8364ebb1896a",
   "metadata": {},
   "source": [
    "Temperatur : 373.15 Kelvin"
   ]
  },
  {
   "cell_type": "code",
   "execution_count": 3,
   "id": "292fb80d-dc60-4d40-87fe-a3927469ccfa",
   "metadata": {},
   "outputs": [
    {
     "name": "stdout",
     "output_type": "stream",
     "text": [
      "Nilai suhu saat ini 214.14999999999998 °K\n"
     ]
    }
   ],
   "source": [
    "celcius_to_kelvin() #-59"
   ]
  },
  {
   "cell_type": "markdown",
   "id": "3cc1d605-9e9f-4821-9f11-6dd108683356",
   "metadata": {},
   "source": [
    "Temperatur : 178.15 Kelvin"
   ]
  },
  {
   "cell_type": "code",
   "execution_count": 5,
   "id": "ec266062-9ddb-472b-b610-837602265e61",
   "metadata": {},
   "outputs": [
    {
     "name": "stdout",
     "output_type": "stream",
     "text": [
      "Input not valid, please input number\n"
     ]
    }
   ],
   "source": [
    "celcius_to_kelvin()"
   ]
  },
  {
   "cell_type": "markdown",
   "id": "6dec48f4-d0c0-496e-97f4-6e6052cc4a39",
   "metadata": {},
   "source": [
    "Temperatur : 287.15 Kelvin"
   ]
  },
  {
   "cell_type": "markdown",
   "id": "ac050bfc-26a4-4839-93c9-b376bbf16425",
   "metadata": {},
   "source": [
    "**Task 1.2**\n",
    "\n",
    "Seorang Data Analyst sedang mengobservasi variabel apa saja yang bisa mempengaruhi harga suatu laptop. Dia juga mau mengetahui perbedaan harga laptop di brand yang berbeda dengan spesifikasi yang berbeda pula.\n",
    "\n",
    "1. Import data dalam format CSV\n",
    "2. Pastikan data pada semua kolom berada dalam format yang sesuai. Jika belum, maka ubah formatnya (data type)\n",
    "3. Cari tahu Median, Mean, Maximum Price, dan Minimum Price dari seluruh harga laptop\n",
    "4. Cari tahu Mean dan Maximum Price untuk masing-masing brand\n",
    "5. Apakah berat laptop mempengaruhi harga suatu laptop?\n",
    "6. Brand apa yang menjual laptop dengan harga yang paling ekonomis menurut analisis Anda?"
   ]
  },
  {
   "cell_type": "code",
   "execution_count": 1,
   "id": "dff87895",
   "metadata": {},
   "outputs": [],
   "source": [
    "#1.impor data csv\n",
    "import pandas as pd\n",
    "\n",
    "df = pd.read_csv(\"C:/Users/My Latitude/Desktop/basic_DA/laptop_price_dataset.csv\")"
   ]
  },
  {
   "cell_type": "code",
   "execution_count": 5,
   "id": "d64d261c",
   "metadata": {},
   "outputs": [
    {
     "data": {
      "text/html": [
       "<div>\n",
       "<style scoped>\n",
       "    .dataframe tbody tr th:only-of-type {\n",
       "        vertical-align: middle;\n",
       "    }\n",
       "\n",
       "    .dataframe tbody tr th {\n",
       "        vertical-align: top;\n",
       "    }\n",
       "\n",
       "    .dataframe thead th {\n",
       "        text-align: right;\n",
       "    }\n",
       "</style>\n",
       "<table border=\"1\" class=\"dataframe\">\n",
       "  <thead>\n",
       "    <tr style=\"text-align: right;\">\n",
       "      <th></th>\n",
       "      <th>Unnamed: 0</th>\n",
       "      <th>Company</th>\n",
       "      <th>Product</th>\n",
       "      <th>TypeName</th>\n",
       "      <th>Inches</th>\n",
       "      <th>ScreenResolution</th>\n",
       "      <th>CPU_Company</th>\n",
       "      <th>CPU_Type</th>\n",
       "      <th>CPU_Frequency (GHz)</th>\n",
       "      <th>RAM (GB)</th>\n",
       "      <th>Memory</th>\n",
       "      <th>GPU_Company</th>\n",
       "      <th>GPU_Type</th>\n",
       "      <th>OpSys</th>\n",
       "      <th>Weight (kg)</th>\n",
       "      <th>Price (Euro)</th>\n",
       "    </tr>\n",
       "  </thead>\n",
       "  <tbody>\n",
       "    <tr>\n",
       "      <th>0</th>\n",
       "      <td>0</td>\n",
       "      <td>Apple</td>\n",
       "      <td>MacBook Pro</td>\n",
       "      <td>Ultrabook</td>\n",
       "      <td>13.3</td>\n",
       "      <td>IPS Panel Retina Display 2560x1600</td>\n",
       "      <td>Intel</td>\n",
       "      <td>Core i5</td>\n",
       "      <td>2.3</td>\n",
       "      <td>8.0</td>\n",
       "      <td>128GB SSD</td>\n",
       "      <td>Intel</td>\n",
       "      <td>Iris Plus Graphics 640</td>\n",
       "      <td>macOS</td>\n",
       "      <td>1.37</td>\n",
       "      <td>1339.69</td>\n",
       "    </tr>\n",
       "    <tr>\n",
       "      <th>1</th>\n",
       "      <td>1</td>\n",
       "      <td>Apple</td>\n",
       "      <td>Macbook Air</td>\n",
       "      <td>Ultrabook</td>\n",
       "      <td>13.3</td>\n",
       "      <td>1440x900</td>\n",
       "      <td>Intel</td>\n",
       "      <td>Core i5</td>\n",
       "      <td>1.8</td>\n",
       "      <td>8.0</td>\n",
       "      <td>128GB Flash Storage</td>\n",
       "      <td>Intel</td>\n",
       "      <td>HD Graphics 6000</td>\n",
       "      <td>macOS</td>\n",
       "      <td>1.34</td>\n",
       "      <td>898.94</td>\n",
       "    </tr>\n",
       "    <tr>\n",
       "      <th>2</th>\n",
       "      <td>2</td>\n",
       "      <td>HP</td>\n",
       "      <td>250 G6</td>\n",
       "      <td>Notebook</td>\n",
       "      <td>15.6</td>\n",
       "      <td>Full HD 1920x1080</td>\n",
       "      <td>Intel</td>\n",
       "      <td>Core i5 7200U</td>\n",
       "      <td>2.5</td>\n",
       "      <td>8.0</td>\n",
       "      <td>256GB SSD</td>\n",
       "      <td>Intel</td>\n",
       "      <td>HD Graphics 620</td>\n",
       "      <td>No OS</td>\n",
       "      <td>1.86</td>\n",
       "      <td>575.00</td>\n",
       "    </tr>\n",
       "    <tr>\n",
       "      <th>3</th>\n",
       "      <td>3</td>\n",
       "      <td>Apple</td>\n",
       "      <td>MacBook Pro</td>\n",
       "      <td>Ultrabook</td>\n",
       "      <td>15.4</td>\n",
       "      <td>IPS Panel Retina Display 2880x1800</td>\n",
       "      <td>Intel</td>\n",
       "      <td>Core i7</td>\n",
       "      <td>2.7</td>\n",
       "      <td>16.0</td>\n",
       "      <td>512GB SSD</td>\n",
       "      <td>AMD</td>\n",
       "      <td>Radeon Pro 455</td>\n",
       "      <td>macOS</td>\n",
       "      <td>1.83</td>\n",
       "      <td>2537.45</td>\n",
       "    </tr>\n",
       "    <tr>\n",
       "      <th>4</th>\n",
       "      <td>4</td>\n",
       "      <td>Apple</td>\n",
       "      <td>MacBook Pro</td>\n",
       "      <td>Ultrabook</td>\n",
       "      <td>13.3</td>\n",
       "      <td>IPS Panel Retina Display 2560x1600</td>\n",
       "      <td>Intel</td>\n",
       "      <td>Core i5</td>\n",
       "      <td>3.1</td>\n",
       "      <td>8.0</td>\n",
       "      <td>256GB SSD</td>\n",
       "      <td>Intel</td>\n",
       "      <td>Iris Plus Graphics 650</td>\n",
       "      <td>macOS</td>\n",
       "      <td>1.37</td>\n",
       "      <td>1803.60</td>\n",
       "    </tr>\n",
       "  </tbody>\n",
       "</table>\n",
       "</div>"
      ],
      "text/plain": [
       "   Unnamed: 0 Company      Product   TypeName  Inches  \\\n",
       "0           0   Apple  MacBook Pro  Ultrabook    13.3   \n",
       "1           1   Apple  Macbook Air  Ultrabook    13.3   \n",
       "2           2      HP       250 G6   Notebook    15.6   \n",
       "3           3   Apple  MacBook Pro  Ultrabook    15.4   \n",
       "4           4   Apple  MacBook Pro  Ultrabook    13.3   \n",
       "\n",
       "                     ScreenResolution CPU_Company       CPU_Type  \\\n",
       "0  IPS Panel Retina Display 2560x1600       Intel        Core i5   \n",
       "1                            1440x900       Intel        Core i5   \n",
       "2                   Full HD 1920x1080       Intel  Core i5 7200U   \n",
       "3  IPS Panel Retina Display 2880x1800       Intel        Core i7   \n",
       "4  IPS Panel Retina Display 2560x1600       Intel        Core i5   \n",
       "\n",
       "   CPU_Frequency (GHz)  RAM (GB)               Memory GPU_Company  \\\n",
       "0                  2.3       8.0            128GB SSD       Intel   \n",
       "1                  1.8       8.0  128GB Flash Storage       Intel   \n",
       "2                  2.5       8.0            256GB SSD       Intel   \n",
       "3                  2.7      16.0            512GB SSD         AMD   \n",
       "4                  3.1       8.0            256GB SSD       Intel   \n",
       "\n",
       "                 GPU_Type  OpSys  Weight (kg)  Price (Euro)  \n",
       "0  Iris Plus Graphics 640  macOS         1.37       1339.69  \n",
       "1        HD Graphics 6000  macOS         1.34        898.94  \n",
       "2         HD Graphics 620  No OS         1.86        575.00  \n",
       "3          Radeon Pro 455  macOS         1.83       2537.45  \n",
       "4  Iris Plus Graphics 650  macOS         1.37       1803.60  "
      ]
     },
     "execution_count": 5,
     "metadata": {},
     "output_type": "execute_result"
    }
   ],
   "source": [
    "#2. Menampilkan aata menggunkan fungsi .head()\n",
    "df.head()"
   ]
  },
  {
   "cell_type": "code",
   "execution_count": 7,
   "id": "9c5e4e09",
   "metadata": {},
   "outputs": [
    {
     "data": {
      "text/html": [
       "<div>\n",
       "<style scoped>\n",
       "    .dataframe tbody tr th:only-of-type {\n",
       "        vertical-align: middle;\n",
       "    }\n",
       "\n",
       "    .dataframe tbody tr th {\n",
       "        vertical-align: top;\n",
       "    }\n",
       "\n",
       "    .dataframe thead th {\n",
       "        text-align: right;\n",
       "    }\n",
       "</style>\n",
       "<table border=\"1\" class=\"dataframe\">\n",
       "  <thead>\n",
       "    <tr style=\"text-align: right;\">\n",
       "      <th></th>\n",
       "      <th>Product</th>\n",
       "      <th>Price (Euro)</th>\n",
       "    </tr>\n",
       "  </thead>\n",
       "  <tbody>\n",
       "    <tr>\n",
       "      <th>count</th>\n",
       "      <td>1275</td>\n",
       "      <td>1275.000000</td>\n",
       "    </tr>\n",
       "    <tr>\n",
       "      <th>unique</th>\n",
       "      <td>618</td>\n",
       "      <td>NaN</td>\n",
       "    </tr>\n",
       "    <tr>\n",
       "      <th>top</th>\n",
       "      <td>XPS 13</td>\n",
       "      <td>NaN</td>\n",
       "    </tr>\n",
       "    <tr>\n",
       "      <th>freq</th>\n",
       "      <td>30</td>\n",
       "      <td>NaN</td>\n",
       "    </tr>\n",
       "    <tr>\n",
       "      <th>mean</th>\n",
       "      <td>NaN</td>\n",
       "      <td>1134.969059</td>\n",
       "    </tr>\n",
       "    <tr>\n",
       "      <th>std</th>\n",
       "      <td>NaN</td>\n",
       "      <td>700.752504</td>\n",
       "    </tr>\n",
       "    <tr>\n",
       "      <th>min</th>\n",
       "      <td>NaN</td>\n",
       "      <td>174.000000</td>\n",
       "    </tr>\n",
       "    <tr>\n",
       "      <th>25%</th>\n",
       "      <td>NaN</td>\n",
       "      <td>609.000000</td>\n",
       "    </tr>\n",
       "    <tr>\n",
       "      <th>50%</th>\n",
       "      <td>NaN</td>\n",
       "      <td>989.000000</td>\n",
       "    </tr>\n",
       "    <tr>\n",
       "      <th>75%</th>\n",
       "      <td>NaN</td>\n",
       "      <td>1496.500000</td>\n",
       "    </tr>\n",
       "    <tr>\n",
       "      <th>max</th>\n",
       "      <td>NaN</td>\n",
       "      <td>6099.000000</td>\n",
       "    </tr>\n",
       "  </tbody>\n",
       "</table>\n",
       "</div>"
      ],
      "text/plain": [
       "       Product  Price (Euro)\n",
       "count     1275   1275.000000\n",
       "unique     618           NaN\n",
       "top     XPS 13           NaN\n",
       "freq        30           NaN\n",
       "mean       NaN   1134.969059\n",
       "std        NaN    700.752504\n",
       "min        NaN    174.000000\n",
       "25%        NaN    609.000000\n",
       "50%        NaN    989.000000\n",
       "75%        NaN   1496.500000\n",
       "max        NaN   6099.000000"
      ]
     },
     "execution_count": 7,
     "metadata": {},
     "output_type": "execute_result"
    }
   ],
   "source": [
    "#3. Menampilkan nilai median, meanm max, min price laptop\n",
    "df.dropna()\n",
    "df[[\"Product\", \"Price (Euro)\"]].describe(include=\"all\")"
   ]
  },
  {
   "cell_type": "markdown",
   "id": "5723486d",
   "metadata": {},
   "source": [
    "Dengan menggunakan fungsi desrcibe() kita dapat mencari nilai mean, median, harga minimal dan maksimal dari penjualan Laptop. Didapatkan nilai mean dari harga laptop 1134.969, median (50%) sebesar 989, harga maksimal dari seluruh harga laptop tersebut adalah 6099 dan harga minimal adalah 174."
   ]
  },
  {
   "cell_type": "code",
   "execution_count": 2,
   "id": "4af237bb",
   "metadata": {},
   "outputs": [
    {
     "name": "stdout",
     "output_type": "stream",
     "text": [
      "                  mean   median      max      min\n",
      "Company                                          \n",
      "Acer        633.464455   572.00  2599.00   174.00\n",
      "Apple      1564.198571  1339.69  2858.00   898.94\n",
      "Asus       1123.829737  1049.45  3975.00   191.90\n",
      "Chuwi       314.296667   248.90   449.00   244.99\n",
      "Dell       1199.225120   999.00  3659.40   274.90\n",
      "Fujitsu     729.000000   739.00   799.00   649.00\n",
      "Google     1677.666667  1559.00  2199.00  1275.00\n",
      "HP         1080.314664   979.00  4389.00   209.00\n",
      "Huawei     1424.000000  1424.00  1499.00  1349.00\n",
      "LG         2099.000000  2099.00  2299.00  1899.00\n",
      "Lenovo     1093.862215   899.00  4899.00   229.00\n",
      "MSI        1728.908148  1599.00  2799.00   839.00\n",
      "Mediacom    295.000000   265.00   389.00   239.00\n",
      "Microsoft  1612.308333  1569.50  2589.00   989.00\n",
      "Razer      3346.142857  2899.00  6099.00  1029.00\n",
      "Samsung    1413.444444  1649.00  1849.00   269.00\n",
      "Toshiba    1267.812500  1211.50  2799.00   447.00\n",
      "Vero        217.425000   206.85   260.00   196.00\n",
      "Xiaomi     1133.462500  1099.45  1399.95   935.00\n"
     ]
    }
   ],
   "source": [
    "#4. Menampilkan nilai mean dan maksimum dari setiap brand\n",
    "result = df.groupby('Company')['Price (Euro)'].agg(['mean', 'median', 'max', 'min'])\n",
    "print(result)"
   ]
  },
  {
   "cell_type": "markdown",
   "id": "d94b11ba",
   "metadata": {},
   "source": [
    "Dengan menggunakan fungsi groupby() kita dapat menggabungkan dan menampilkan data numerik dan non-numerik sehingga kita dapat mengetahui nilai mean dan maksimum dari masing-masing brand laptop."
   ]
  },
  {
   "cell_type": "code",
   "execution_count": 11,
   "id": "2502349c",
   "metadata": {},
   "outputs": [
    {
     "name": "stdout",
     "output_type": "stream",
     "text": [
      "                    mean      max      min\n",
      "Weight (kg)                               \n",
      "0.69          498.317500   646.27   319.00\n",
      "0.81         1574.000000  1649.00  1499.00\n",
      "0.91         1950.000000  1950.00  1950.00\n",
      "0.92         1279.900000  1510.00  1163.00\n",
      "0.97         1961.000000  2014.00  1908.00\n",
      "...                  ...      ...      ...\n",
      "4.40         2799.000000  2799.00  2799.00\n",
      "4.42         2876.378182  3588.80  2046.00\n",
      "4.50         2349.000000  2349.00  2349.00\n",
      "4.60         2735.745000  3240.00  2289.99\n",
      "4.70         3890.000000  3890.00  3890.00\n",
      "\n",
      "[171 rows x 3 columns]\n"
     ]
    }
   ],
   "source": [
    "#5. Pengaruh berat laptop terhadap harga laptop\n",
    "result = df.groupby('Weight (kg)')['Price (Euro)'].agg(['mean', 'max', 'min'])\n",
    "print(result)"
   ]
  },
  {
   "cell_type": "markdown",
   "id": "95d47f09",
   "metadata": {},
   "source": [
    "Dari data yang saya tarik diatas saya menyimpulkan bahwa semakin besar berat laptop maka harga jual dari laptop tersebut juga tinggi."
   ]
  },
  {
   "cell_type": "markdown",
   "id": "5f22235b",
   "metadata": {},
   "source": [
    "6. Dari jawaban no.4, menurut saya laptop dengan penjualan dengan harga yang ekonomis adalah dari Brand Vero, terlihat perbandingan nilai median dan harga barang tidak terlalu jauh perbedaanya."
   ]
  }
 ],
 "metadata": {
  "kernelspec": {
   "display_name": "Python 3",
   "language": "python",
   "name": "python3"
  },
  "language_info": {
   "codemirror_mode": {
    "name": "ipython",
    "version": 3
   },
   "file_extension": ".py",
   "mimetype": "text/x-python",
   "name": "python",
   "nbconvert_exporter": "python",
   "pygments_lexer": "ipython3",
   "version": "3.12.5"
  }
 },
 "nbformat": 4,
 "nbformat_minor": 5
}
