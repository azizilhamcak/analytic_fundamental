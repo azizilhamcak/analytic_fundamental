{
 "cells": [
  {
   "cell_type": "markdown",
   "id": "e0fa6be0-bdba-4565-ace0-622140320622",
   "metadata": {},
   "source": [
    "**Task 1.1**\n",
    "\n",
    "Budi sedang melakukan riset untuk melihat pengaruh suhu harian terhadap minat warga lokal untuk mengunjungi lokasi wisata di musim liburan. Lokasi risetnya adalah di negara bernama Puerto Rico. Budi mengambil data suhu di seluruh region di Puerto Rico selama satu bulan yang termasuk ke dalam musim libur anak sekolah. Dia pergi bersama satu orang asistennya, mahasiswa tingkat awal di universitas tempat dia sedang menempuh studi.\n",
    "\n",
    "Di sisi lain, Budi juga diminta oleh professor di tempat dia kuliah untuk mengumpulkan data temperatur secara detil setiap 15 menit di ibu kota Puerto Rico. Data ini nantinya akan digunakan oleh professor untuk melakukan suatu eksperimen di bidang Engineering.\n",
    "\n",
    "Saat kembali ke Indonesia, Budi sadar bahwa dia melakukan pengukuran suhu dengan menggunakan satuan Celcius untuk setiap data. Di sisi lain, satuan yang biasa dipakai di Puerto Rico adalah Fahrenheit. Professor juga memerlukan data tersebut dalam satuan Kelvin untuk penelitiannya di bidang Engineering. Saat hendak mengkonversi data tersebut, Budi sadar bahwa asistennya salah menginput tipe data untuk beberapa data. Ada sebagian data yang berada dalam format teks (string), yang mana seharusnya formatnya adalah bilangan desimal. \n",
    "\n",
    "1. Buat satu function untuk mengkonversi suhu dari satuan Celcius menjadi Fahrenheit. Beri nama functionnya sebagai **celcius_to_fahrenheit**\n",
    "2. Buat satu function untuk mengkonversi suhu dari satuan Celcius menjadi Kelvin. Beri nama functionnya sebagai **celcius_to_kelvin**\n",
    "3. Pastikan bahwa function tetap dapat mengkonversi suhu dengan benar, walaupun input datanya adalah teks.\n",
    "4. Buat hasil akhirnya sesuai dengan kunci jawaban yang tersedia di bawah, berada dalam foramt **Temperatur : 86.0 Fahrenheit**"
   ]
  },
  {
   "cell_type": "code",
   "execution_count": 11,
   "id": "673bb770-ce6d-41e1-b71e-4bb5b027fb2b",
   "metadata": {},
   "outputs": [
    {
     "name": "stdout",
     "output_type": "stream",
     "text": [
      "Nilai suhu saat ini 293.15 °F\n"
     ]
    }
   ],
   "source": [
    "# celcius to fahrenheit\n",
    "\n",
    "def celcius_to_fahrenheit():\n",
    "    try:\n",
    "        celcius = input(\"Input temp °C: \")\n",
    "        _celc = float(celcius)\n",
    "        c2f = (9/5*_celc)+32\n",
    "        print(f\"Nilai suhu saat ini {c2f} °F\")\n",
    "    except ValueError:\n",
    "        print(\"Input not valid, please input number\")\n",
    "\n",
    "def celcius_to_kelvin():\n",
    "    try:\n",
    "        celcius = input(\"input temp °C: \")\n",
    "        _celc = float(celcius)\n",
    "        c2k = _celc+273.15\n",
    "        print(f\"Nilai suhu saat ini {c2k} °K\")\n",
    "    except ValueError:\n",
    "        print(\"Input not valid, please input number\")\n",
    "\n"
   ]
  },
  {
   "cell_type": "code",
   "execution_count": 2,
   "id": "30aa7984",
   "metadata": {},
   "outputs": [
    {
     "ename": "NameError",
     "evalue": "name 'celcius_to_fahrenheit' is not defined",
     "output_type": "error",
     "traceback": [
      "\u001b[1;31m---------------------------------------------------------------------------\u001b[0m",
      "\u001b[1;31mNameError\u001b[0m                                 Traceback (most recent call last)",
      "Cell \u001b[1;32mIn[2], line 1\u001b[0m\n\u001b[1;32m----> 1\u001b[0m \u001b[43mcelcius_to_fahrenheit\u001b[49m()\n",
      "\u001b[1;31mNameError\u001b[0m: name 'celcius_to_fahrenheit' is not defined"
     ]
    }
   ],
   "source": [
    "celcius_to_fahrenheit()"
   ]
  },
  {
   "cell_type": "markdown",
   "id": "edfad102-ac1b-4843-b210-f75a6afc1042",
   "metadata": {},
   "source": [
    "Temperatur : 86.0 Fahrenheit"
   ]
  },
  {
   "cell_type": "code",
   "execution_count": 4,
   "id": "c0fed419-1500-4770-9be4-3139f980c466",
   "metadata": {},
   "outputs": [
    {
     "name": "stdout",
     "output_type": "stream",
     "text": [
      "Nilai suhu saat ini 199.57999999999998 °F\n"
     ]
    }
   ],
   "source": [
    "# check your answer\n",
    "\n",
    "celcius_to_fahrenheit() #93.1"
   ]
  },
  {
   "cell_type": "markdown",
   "id": "bb996ada-fb04-472b-acfa-af2b53fdb52b",
   "metadata": {},
   "source": [
    "Temperatur : 199.57999999999998 Fahrenheit"
   ]
  },
  {
   "cell_type": "code",
   "execution_count": 6,
   "id": "0b0fc09b-f61e-41df-9139-585bc4e5e1b5",
   "metadata": {},
   "outputs": [
    {
     "name": "stdout",
     "output_type": "stream",
     "text": [
      "Nilai suhu saat ini -17.5 °F\n"
     ]
    }
   ],
   "source": [
    "# check your answer\n",
    "\n",
    "celcius_to_fahrenheit() #-27.5"
   ]
  },
  {
   "cell_type": "markdown",
   "id": "2bb80b79-d82a-4a0b-976d-55a7c4023376",
   "metadata": {},
   "source": [
    "Temperatur : -17.5 Fahrenheit"
   ]
  },
  {
   "cell_type": "code",
   "execution_count": 14,
   "id": "1551b335-8d3f-4fab-8b4b-88f31a010fd6",
   "metadata": {},
   "outputs": [
    {
     "name": "stdout",
     "output_type": "stream",
     "text": [
      "Nilai suhu saat ini 373.15 °F\n"
     ]
    }
   ],
   "source": [
    "celcius_to_kelvin() #100"
   ]
  },
  {
   "cell_type": "markdown",
   "id": "a57d6e50-9eee-4c80-820d-8364ebb1896a",
   "metadata": {},
   "source": [
    "Temperatur : 373.15 Kelvin"
   ]
  },
  {
   "cell_type": "code",
   "execution_count": 1,
   "id": "292fb80d-dc60-4d40-87fe-a3927469ccfa",
   "metadata": {},
   "outputs": [
    {
     "ename": "NameError",
     "evalue": "name 'celcius_to_kelvin' is not defined",
     "output_type": "error",
     "traceback": [
      "\u001b[1;31m---------------------------------------------------------------------------\u001b[0m",
      "\u001b[1;31mNameError\u001b[0m                                 Traceback (most recent call last)",
      "Cell \u001b[1;32mIn[1], line 1\u001b[0m\n\u001b[1;32m----> 1\u001b[0m \u001b[43mcelcius_to_kelvin\u001b[49m() \u001b[38;5;66;03m#-59\u001b[39;00m\n",
      "\u001b[1;31mNameError\u001b[0m: name 'celcius_to_kelvin' is not defined"
     ]
    }
   ],
   "source": [
    "celcius_to_kelvin() #-59"
   ]
  },
  {
   "cell_type": "markdown",
   "id": "3cc1d605-9e9f-4821-9f11-6dd108683356",
   "metadata": {},
   "source": [
    "Temperatur : 178.15 Kelvin"
   ]
  },
  {
   "cell_type": "code",
   "execution_count": 16,
   "id": "ec266062-9ddb-472b-b610-837602265e61",
   "metadata": {},
   "outputs": [
    {
     "name": "stdout",
     "output_type": "stream",
     "text": [
      "Nilai suhu saat ini 287.15 °F\n"
     ]
    }
   ],
   "source": [
    "celcius_to_kelvin()"
   ]
  },
  {
   "cell_type": "markdown",
   "id": "6dec48f4-d0c0-496e-97f4-6e6052cc4a39",
   "metadata": {},
   "source": [
    "Temperatur : 287.15 Kelvin"
   ]
  },
  {
   "cell_type": "markdown",
   "id": "ac050bfc-26a4-4839-93c9-b376bbf16425",
   "metadata": {},
   "source": [
    "**Task 1.2**\n",
    "\n",
    "Seorang Data Analyst sedang mengobservasi variabel apa saja yang bisa mempengaruhi harga suatu laptop. Dia juga mau mengetahui perbedaan harga laptop di brand yang berbeda dengan spesifikasi yang berbeda pula.\n",
    "\n",
    "1. Import data dalam format CSV\n",
    "2. Pastikan data pada semua kolom berada dalam format yang sesuai. Jika belum, maka ubah formatnya (data type)\n",
    "3. Cari tahu Median, Mean, Maximum Price, dan Minimum Price dari seluruh harga laptop\n",
    "4. Cari tahu Mean dan Maximum Price untuk masing-masing brand\n",
    "5. Apakah berat laptop mempengaruhi harga suatu laptop?\n",
    "6. Brand apa yang menjual laptop dengan harga yang paling ekonomis menurut analisis Anda?"
   ]
  },
  {
   "cell_type": "code",
   "execution_count": null,
   "id": "aed4a0a5-9284-4078-a96c-91381287d1ed",
   "metadata": {},
   "outputs": [],
   "source": []
  },
  {
   "cell_type": "code",
   "execution_count": null,
   "id": "405c8c23-819f-4831-8f83-1495c9e5ba00",
   "metadata": {},
   "outputs": [],
   "source": []
  }
 ],
 "metadata": {
  "kernelspec": {
   "display_name": "Python 3",
   "language": "python",
   "name": "python3"
  },
  "language_info": {
   "codemirror_mode": {
    "name": "ipython",
    "version": 3
   },
   "file_extension": ".py",
   "mimetype": "text/x-python",
   "name": "python",
   "nbconvert_exporter": "python",
   "pygments_lexer": "ipython3",
   "version": "3.12.5"
  }
 },
 "nbformat": 4,
 "nbformat_minor": 5
}
